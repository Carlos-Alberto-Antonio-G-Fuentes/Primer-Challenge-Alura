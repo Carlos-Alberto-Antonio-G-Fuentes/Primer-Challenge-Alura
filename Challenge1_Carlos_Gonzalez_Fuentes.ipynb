{
  "nbformat": 4,
  "nbformat_minor": 0,
  "metadata": {
    "colab": {
      "provenance": []
    },
    "kernelspec": {
      "name": "python3",
      "display_name": "Python 3"
    },
    "language_info": {
      "name": "python"
    }
  },
  "cells": [
    {
      "cell_type": "code",
      "execution_count": 2,
      "metadata": {
        "colab": {
          "base_uri": "https://localhost:8080/",
          "height": 293
        },
        "id": "2eJcwnfeqPkG",
        "outputId": "d3f1a3d4-8d9d-424e-d57a-8c8d8ad3c6b0"
      },
      "outputs": [
        {
          "output_type": "execute_result",
          "data": {
            "text/plain": [
              "            Producto Categoría del Producto    Precio  Costo de envío  \\\n",
              "0  Asistente virtual           Electrónicos  164300.0          6900.0   \n",
              "1    Mesa de comedor                Muebles  192300.0          8400.0   \n",
              "2      Juego de mesa               Juguetes  209600.0         15900.0   \n",
              "3         Microondas      Electrodomésticos  757500.0         41000.0   \n",
              "4   Silla de oficina                Muebles  335200.0         20200.0   \n",
              "\n",
              "  Fecha de Compra         Vendedor Lugar de Compra  Calificación  \\\n",
              "0      16/01/2021      Pedro Gomez          Bogotá             4   \n",
              "1      18/05/2022  Beatriz Morales        Medellín             1   \n",
              "2      15/03/2021   Juan Fernandez       Cartagena             1   \n",
              "3      03/05/2022   Juan Fernandez            Cali             4   \n",
              "4      07/11/2020    Maria Alfonso        Medellín             5   \n",
              "\n",
              "       Método de pago  Cantidad de cuotas       lat       lon  \n",
              "0  Tarjeta de crédito                   8   4.60971 -74.08175  \n",
              "1  Tarjeta de crédito                   4   6.25184 -75.56359  \n",
              "2  Tarjeta de crédito                   1  10.39972 -75.51444  \n",
              "3               Nequi                   1   3.43722 -76.52250  \n",
              "4               Nequi                   1   6.25184 -75.56359  "
            ],
            "text/html": [
              "\n",
              "  <div id=\"df-9b310ceb-2c83-49f1-93eb-1f97aa786068\" class=\"colab-df-container\">\n",
              "    <div>\n",
              "<style scoped>\n",
              "    .dataframe tbody tr th:only-of-type {\n",
              "        vertical-align: middle;\n",
              "    }\n",
              "\n",
              "    .dataframe tbody tr th {\n",
              "        vertical-align: top;\n",
              "    }\n",
              "\n",
              "    .dataframe thead th {\n",
              "        text-align: right;\n",
              "    }\n",
              "</style>\n",
              "<table border=\"1\" class=\"dataframe\">\n",
              "  <thead>\n",
              "    <tr style=\"text-align: right;\">\n",
              "      <th></th>\n",
              "      <th>Producto</th>\n",
              "      <th>Categoría del Producto</th>\n",
              "      <th>Precio</th>\n",
              "      <th>Costo de envío</th>\n",
              "      <th>Fecha de Compra</th>\n",
              "      <th>Vendedor</th>\n",
              "      <th>Lugar de Compra</th>\n",
              "      <th>Calificación</th>\n",
              "      <th>Método de pago</th>\n",
              "      <th>Cantidad de cuotas</th>\n",
              "      <th>lat</th>\n",
              "      <th>lon</th>\n",
              "    </tr>\n",
              "  </thead>\n",
              "  <tbody>\n",
              "    <tr>\n",
              "      <th>0</th>\n",
              "      <td>Asistente virtual</td>\n",
              "      <td>Electrónicos</td>\n",
              "      <td>164300.0</td>\n",
              "      <td>6900.0</td>\n",
              "      <td>16/01/2021</td>\n",
              "      <td>Pedro Gomez</td>\n",
              "      <td>Bogotá</td>\n",
              "      <td>4</td>\n",
              "      <td>Tarjeta de crédito</td>\n",
              "      <td>8</td>\n",
              "      <td>4.60971</td>\n",
              "      <td>-74.08175</td>\n",
              "    </tr>\n",
              "    <tr>\n",
              "      <th>1</th>\n",
              "      <td>Mesa de comedor</td>\n",
              "      <td>Muebles</td>\n",
              "      <td>192300.0</td>\n",
              "      <td>8400.0</td>\n",
              "      <td>18/05/2022</td>\n",
              "      <td>Beatriz Morales</td>\n",
              "      <td>Medellín</td>\n",
              "      <td>1</td>\n",
              "      <td>Tarjeta de crédito</td>\n",
              "      <td>4</td>\n",
              "      <td>6.25184</td>\n",
              "      <td>-75.56359</td>\n",
              "    </tr>\n",
              "    <tr>\n",
              "      <th>2</th>\n",
              "      <td>Juego de mesa</td>\n",
              "      <td>Juguetes</td>\n",
              "      <td>209600.0</td>\n",
              "      <td>15900.0</td>\n",
              "      <td>15/03/2021</td>\n",
              "      <td>Juan Fernandez</td>\n",
              "      <td>Cartagena</td>\n",
              "      <td>1</td>\n",
              "      <td>Tarjeta de crédito</td>\n",
              "      <td>1</td>\n",
              "      <td>10.39972</td>\n",
              "      <td>-75.51444</td>\n",
              "    </tr>\n",
              "    <tr>\n",
              "      <th>3</th>\n",
              "      <td>Microondas</td>\n",
              "      <td>Electrodomésticos</td>\n",
              "      <td>757500.0</td>\n",
              "      <td>41000.0</td>\n",
              "      <td>03/05/2022</td>\n",
              "      <td>Juan Fernandez</td>\n",
              "      <td>Cali</td>\n",
              "      <td>4</td>\n",
              "      <td>Nequi</td>\n",
              "      <td>1</td>\n",
              "      <td>3.43722</td>\n",
              "      <td>-76.52250</td>\n",
              "    </tr>\n",
              "    <tr>\n",
              "      <th>4</th>\n",
              "      <td>Silla de oficina</td>\n",
              "      <td>Muebles</td>\n",
              "      <td>335200.0</td>\n",
              "      <td>20200.0</td>\n",
              "      <td>07/11/2020</td>\n",
              "      <td>Maria Alfonso</td>\n",
              "      <td>Medellín</td>\n",
              "      <td>5</td>\n",
              "      <td>Nequi</td>\n",
              "      <td>1</td>\n",
              "      <td>6.25184</td>\n",
              "      <td>-75.56359</td>\n",
              "    </tr>\n",
              "  </tbody>\n",
              "</table>\n",
              "</div>\n",
              "    <div class=\"colab-df-buttons\">\n",
              "\n",
              "  <div class=\"colab-df-container\">\n",
              "    <button class=\"colab-df-convert\" onclick=\"convertToInteractive('df-9b310ceb-2c83-49f1-93eb-1f97aa786068')\"\n",
              "            title=\"Convert this dataframe to an interactive table.\"\n",
              "            style=\"display:none;\">\n",
              "\n",
              "  <svg xmlns=\"http://www.w3.org/2000/svg\" height=\"24px\" viewBox=\"0 -960 960 960\">\n",
              "    <path d=\"M120-120v-720h720v720H120Zm60-500h600v-160H180v160Zm220 220h160v-160H400v160Zm0 220h160v-160H400v160ZM180-400h160v-160H180v160Zm440 0h160v-160H620v160ZM180-180h160v-160H180v160Zm440 0h160v-160H620v160Z\"/>\n",
              "  </svg>\n",
              "    </button>\n",
              "\n",
              "  <style>\n",
              "    .colab-df-container {\n",
              "      display:flex;\n",
              "      gap: 12px;\n",
              "    }\n",
              "\n",
              "    .colab-df-convert {\n",
              "      background-color: #E8F0FE;\n",
              "      border: none;\n",
              "      border-radius: 50%;\n",
              "      cursor: pointer;\n",
              "      display: none;\n",
              "      fill: #1967D2;\n",
              "      height: 32px;\n",
              "      padding: 0 0 0 0;\n",
              "      width: 32px;\n",
              "    }\n",
              "\n",
              "    .colab-df-convert:hover {\n",
              "      background-color: #E2EBFA;\n",
              "      box-shadow: 0px 1px 2px rgba(60, 64, 67, 0.3), 0px 1px 3px 1px rgba(60, 64, 67, 0.15);\n",
              "      fill: #174EA6;\n",
              "    }\n",
              "\n",
              "    .colab-df-buttons div {\n",
              "      margin-bottom: 4px;\n",
              "    }\n",
              "\n",
              "    [theme=dark] .colab-df-convert {\n",
              "      background-color: #3B4455;\n",
              "      fill: #D2E3FC;\n",
              "    }\n",
              "\n",
              "    [theme=dark] .colab-df-convert:hover {\n",
              "      background-color: #434B5C;\n",
              "      box-shadow: 0px 1px 3px 1px rgba(0, 0, 0, 0.15);\n",
              "      filter: drop-shadow(0px 1px 2px rgba(0, 0, 0, 0.3));\n",
              "      fill: #FFFFFF;\n",
              "    }\n",
              "  </style>\n",
              "\n",
              "    <script>\n",
              "      const buttonEl =\n",
              "        document.querySelector('#df-9b310ceb-2c83-49f1-93eb-1f97aa786068 button.colab-df-convert');\n",
              "      buttonEl.style.display =\n",
              "        google.colab.kernel.accessAllowed ? 'block' : 'none';\n",
              "\n",
              "      async function convertToInteractive(key) {\n",
              "        const element = document.querySelector('#df-9b310ceb-2c83-49f1-93eb-1f97aa786068');\n",
              "        const dataTable =\n",
              "          await google.colab.kernel.invokeFunction('convertToInteractive',\n",
              "                                                    [key], {});\n",
              "        if (!dataTable) return;\n",
              "\n",
              "        const docLinkHtml = 'Like what you see? Visit the ' +\n",
              "          '<a target=\"_blank\" href=https://colab.research.google.com/notebooks/data_table.ipynb>data table notebook</a>'\n",
              "          + ' to learn more about interactive tables.';\n",
              "        element.innerHTML = '';\n",
              "        dataTable['output_type'] = 'display_data';\n",
              "        await google.colab.output.renderOutput(dataTable, element);\n",
              "        const docLink = document.createElement('div');\n",
              "        docLink.innerHTML = docLinkHtml;\n",
              "        element.appendChild(docLink);\n",
              "      }\n",
              "    </script>\n",
              "  </div>\n",
              "\n",
              "\n",
              "<div id=\"df-83a079b3-0f3d-45be-be7d-15a1ca328ff4\">\n",
              "  <button class=\"colab-df-quickchart\" onclick=\"quickchart('df-83a079b3-0f3d-45be-be7d-15a1ca328ff4')\"\n",
              "            title=\"Suggest charts\"\n",
              "            style=\"display:none;\">\n",
              "\n",
              "<svg xmlns=\"http://www.w3.org/2000/svg\" height=\"24px\"viewBox=\"0 0 24 24\"\n",
              "     width=\"24px\">\n",
              "    <g>\n",
              "        <path d=\"M19 3H5c-1.1 0-2 .9-2 2v14c0 1.1.9 2 2 2h14c1.1 0 2-.9 2-2V5c0-1.1-.9-2-2-2zM9 17H7v-7h2v7zm4 0h-2V7h2v10zm4 0h-2v-4h2v4z\"/>\n",
              "    </g>\n",
              "</svg>\n",
              "  </button>\n",
              "\n",
              "<style>\n",
              "  .colab-df-quickchart {\n",
              "      --bg-color: #E8F0FE;\n",
              "      --fill-color: #1967D2;\n",
              "      --hover-bg-color: #E2EBFA;\n",
              "      --hover-fill-color: #174EA6;\n",
              "      --disabled-fill-color: #AAA;\n",
              "      --disabled-bg-color: #DDD;\n",
              "  }\n",
              "\n",
              "  [theme=dark] .colab-df-quickchart {\n",
              "      --bg-color: #3B4455;\n",
              "      --fill-color: #D2E3FC;\n",
              "      --hover-bg-color: #434B5C;\n",
              "      --hover-fill-color: #FFFFFF;\n",
              "      --disabled-bg-color: #3B4455;\n",
              "      --disabled-fill-color: #666;\n",
              "  }\n",
              "\n",
              "  .colab-df-quickchart {\n",
              "    background-color: var(--bg-color);\n",
              "    border: none;\n",
              "    border-radius: 50%;\n",
              "    cursor: pointer;\n",
              "    display: none;\n",
              "    fill: var(--fill-color);\n",
              "    height: 32px;\n",
              "    padding: 0;\n",
              "    width: 32px;\n",
              "  }\n",
              "\n",
              "  .colab-df-quickchart:hover {\n",
              "    background-color: var(--hover-bg-color);\n",
              "    box-shadow: 0 1px 2px rgba(60, 64, 67, 0.3), 0 1px 3px 1px rgba(60, 64, 67, 0.15);\n",
              "    fill: var(--button-hover-fill-color);\n",
              "  }\n",
              "\n",
              "  .colab-df-quickchart-complete:disabled,\n",
              "  .colab-df-quickchart-complete:disabled:hover {\n",
              "    background-color: var(--disabled-bg-color);\n",
              "    fill: var(--disabled-fill-color);\n",
              "    box-shadow: none;\n",
              "  }\n",
              "\n",
              "  .colab-df-spinner {\n",
              "    border: 2px solid var(--fill-color);\n",
              "    border-color: transparent;\n",
              "    border-bottom-color: var(--fill-color);\n",
              "    animation:\n",
              "      spin 1s steps(1) infinite;\n",
              "  }\n",
              "\n",
              "  @keyframes spin {\n",
              "    0% {\n",
              "      border-color: transparent;\n",
              "      border-bottom-color: var(--fill-color);\n",
              "      border-left-color: var(--fill-color);\n",
              "    }\n",
              "    20% {\n",
              "      border-color: transparent;\n",
              "      border-left-color: var(--fill-color);\n",
              "      border-top-color: var(--fill-color);\n",
              "    }\n",
              "    30% {\n",
              "      border-color: transparent;\n",
              "      border-left-color: var(--fill-color);\n",
              "      border-top-color: var(--fill-color);\n",
              "      border-right-color: var(--fill-color);\n",
              "    }\n",
              "    40% {\n",
              "      border-color: transparent;\n",
              "      border-right-color: var(--fill-color);\n",
              "      border-top-color: var(--fill-color);\n",
              "    }\n",
              "    60% {\n",
              "      border-color: transparent;\n",
              "      border-right-color: var(--fill-color);\n",
              "    }\n",
              "    80% {\n",
              "      border-color: transparent;\n",
              "      border-right-color: var(--fill-color);\n",
              "      border-bottom-color: var(--fill-color);\n",
              "    }\n",
              "    90% {\n",
              "      border-color: transparent;\n",
              "      border-bottom-color: var(--fill-color);\n",
              "    }\n",
              "  }\n",
              "</style>\n",
              "\n",
              "  <script>\n",
              "    async function quickchart(key) {\n",
              "      const quickchartButtonEl =\n",
              "        document.querySelector('#' + key + ' button');\n",
              "      quickchartButtonEl.disabled = true;  // To prevent multiple clicks.\n",
              "      quickchartButtonEl.classList.add('colab-df-spinner');\n",
              "      try {\n",
              "        const charts = await google.colab.kernel.invokeFunction(\n",
              "            'suggestCharts', [key], {});\n",
              "      } catch (error) {\n",
              "        console.error('Error during call to suggestCharts:', error);\n",
              "      }\n",
              "      quickchartButtonEl.classList.remove('colab-df-spinner');\n",
              "      quickchartButtonEl.classList.add('colab-df-quickchart-complete');\n",
              "    }\n",
              "    (() => {\n",
              "      let quickchartButtonEl =\n",
              "        document.querySelector('#df-83a079b3-0f3d-45be-be7d-15a1ca328ff4 button');\n",
              "      quickchartButtonEl.style.display =\n",
              "        google.colab.kernel.accessAllowed ? 'block' : 'none';\n",
              "    })();\n",
              "  </script>\n",
              "</div>\n",
              "\n",
              "    </div>\n",
              "  </div>\n"
            ],
            "application/vnd.google.colaboratory.intrinsic+json": {
              "type": "dataframe",
              "variable_name": "tienda",
              "summary": "{\n  \"name\": \"tienda\",\n  \"rows\": 2359,\n  \"fields\": [\n    {\n      \"column\": \"Producto\",\n      \"properties\": {\n        \"dtype\": \"category\",\n        \"num_unique_values\": 51,\n        \"samples\": [\n          \"Guitarra ac\\u00fastica\",\n          \"Bal\\u00f3n de baloncesto\",\n          \"Smartwatch\"\n        ],\n        \"semantic_type\": \"\",\n        \"description\": \"\"\n      }\n    },\n    {\n      \"column\": \"Categor\\u00eda del Producto\",\n      \"properties\": {\n        \"dtype\": \"category\",\n        \"num_unique_values\": 8,\n        \"samples\": [\n          \"Muebles\",\n          \"Deportes y diversi\\u00f3n\",\n          \"Electr\\u00f3nicos\"\n        ],\n        \"semantic_type\": \"\",\n        \"description\": \"\"\n      }\n    },\n    {\n      \"column\": \"Precio\",\n      \"properties\": {\n        \"dtype\": \"number\",\n        \"std\": 614686.7653873172,\n        \"min\": 7600.0,\n        \"max\": 2977000.0,\n        \"num_unique_values\": 1937,\n        \"samples\": [\n          2499400.0,\n          14800.0,\n          80500.0\n        ],\n        \"semantic_type\": \"\",\n        \"description\": \"\"\n      }\n    },\n    {\n      \"column\": \"Costo de env\\u00edo\",\n      \"properties\": {\n        \"dtype\": \"number\",\n        \"std\": 32860.0017825605,\n        \"min\": 0.0,\n        \"max\": 160800.0,\n        \"num_unique_values\": 753,\n        \"samples\": [\n          117800.0,\n          54700.0,\n          45600.0\n        ],\n        \"semantic_type\": \"\",\n        \"description\": \"\"\n      }\n    },\n    {\n      \"column\": \"Fecha de Compra\",\n      \"properties\": {\n        \"dtype\": \"object\",\n        \"num_unique_values\": 1018,\n        \"samples\": [\n          \"15/09/2022\",\n          \"03/06/2020\",\n          \"06/11/2021\"\n        ],\n        \"semantic_type\": \"\",\n        \"description\": \"\"\n      }\n    },\n    {\n      \"column\": \"Vendedor\",\n      \"properties\": {\n        \"dtype\": \"category\",\n        \"num_unique_values\": 14,\n        \"samples\": [\n          \"Juliana Costa\",\n          \"Mariana Herrera\",\n          \"Pedro Gomez\"\n        ],\n        \"semantic_type\": \"\",\n        \"description\": \"\"\n      }\n    },\n    {\n      \"column\": \"Lugar de Compra\",\n      \"properties\": {\n        \"dtype\": \"category\",\n        \"num_unique_values\": 19,\n        \"samples\": [\n          \"Bogot\\u00e1\",\n          \"Pereira\",\n          \"Neiva\"\n        ],\n        \"semantic_type\": \"\",\n        \"description\": \"\"\n      }\n    },\n    {\n      \"column\": \"Calificaci\\u00f3n\",\n      \"properties\": {\n        \"dtype\": \"number\",\n        \"std\": 1,\n        \"min\": 1,\n        \"max\": 5,\n        \"num_unique_values\": 5,\n        \"samples\": [\n          1,\n          2,\n          5\n        ],\n        \"semantic_type\": \"\",\n        \"description\": \"\"\n      }\n    },\n    {\n      \"column\": \"M\\u00e9todo de pago\",\n      \"properties\": {\n        \"dtype\": \"category\",\n        \"num_unique_values\": 4,\n        \"samples\": [\n          \"Nequi\",\n          \"Tarjeta de d\\u00e9bito\",\n          \"Tarjeta de cr\\u00e9dito\"\n        ],\n        \"semantic_type\": \"\",\n        \"description\": \"\"\n      }\n    },\n    {\n      \"column\": \"Cantidad de cuotas\",\n      \"properties\": {\n        \"dtype\": \"number\",\n        \"std\": 2,\n        \"min\": 1,\n        \"max\": 24,\n        \"num_unique_values\": 15,\n        \"samples\": [\n          7,\n          14,\n          8\n        ],\n        \"semantic_type\": \"\",\n        \"description\": \"\"\n      }\n    },\n    {\n      \"column\": \"lat\",\n      \"properties\": {\n        \"dtype\": \"number\",\n        \"std\": 2.2874452492678627,\n        \"min\": -4.21528,\n        \"max\": 11.54444,\n        \"num_unique_values\": 19,\n        \"samples\": [\n          4.60971,\n          4.81333,\n          2.9273\n        ],\n        \"semantic_type\": \"\",\n        \"description\": \"\"\n      }\n    },\n    {\n      \"column\": \"lon\",\n      \"properties\": {\n        \"dtype\": \"number\",\n        \"std\": 1.2178272727088486,\n        \"min\": -77.28111,\n        \"max\": -67.9239,\n        \"num_unique_values\": 19,\n        \"samples\": [\n          -74.08175,\n          -75.69611,\n          -75.28189\n        ],\n        \"semantic_type\": \"\",\n        \"description\": \"\"\n      }\n    }\n  ]\n}"
            }
          },
          "metadata": {},
          "execution_count": 2
        }
      ],
      "source": [
        "import pandas as pd\n",
        "\n",
        "url = \"https://raw.githubusercontent.com/alura-es-cursos/challenge1-data-science-latam/refs/heads/main/base-de-datos-challenge1-latam/tienda_1%20.csv\"\n",
        "url2 = \"https://raw.githubusercontent.com/alura-es-cursos/challenge1-data-science-latam/refs/heads/main/base-de-datos-challenge1-latam/tienda_2.csv\"\n",
        "url3 = \"https://raw.githubusercontent.com/alura-es-cursos/challenge1-data-science-latam/refs/heads/main/base-de-datos-challenge1-latam/tienda_3.csv\"\n",
        "url4 = \"https://raw.githubusercontent.com/alura-es-cursos/challenge1-data-science-latam/refs/heads/main/base-de-datos-challenge1-latam/tienda_4.csv\"\n",
        "\n",
        "tienda = pd.read_csv(url)\n",
        "tienda2 = pd.read_csv(url2)\n",
        "tienda3 = pd.read_csv(url3)\n",
        "tienda4 = pd.read_csv(url4)\n",
        "\n",
        "tienda.head()"
      ]
    },
    {
      "cell_type": "markdown",
      "source": [
        "Identificando el tipo de datos de cada encabezado"
      ],
      "metadata": {
        "id": "O6uDvhOZZJVL"
      }
    },
    {
      "cell_type": "code",
      "source": [
        "print(tienda.dtypes)"
      ],
      "metadata": {
        "id": "ZVyjROfsZPHg",
        "outputId": "9fd785dd-d63e-4ed5-e633-b260b34a866a",
        "colab": {
          "base_uri": "https://localhost:8080/"
        }
      },
      "execution_count": null,
      "outputs": [
        {
          "output_type": "stream",
          "name": "stdout",
          "text": [
            "Producto                   object\n",
            "Categoría del Producto     object\n",
            "Precio                    float64\n",
            "Costo de envío            float64\n",
            "Fecha de Compra            object\n",
            "Vendedor                   object\n",
            "Lugar de Compra            object\n",
            "Calificación                int64\n",
            "Método de pago             object\n",
            "Cantidad de cuotas          int64\n",
            "lat                       float64\n",
            "lon                       float64\n",
            "dtype: object\n"
          ]
        }
      ]
    },
    {
      "cell_type": "markdown",
      "source": [
        "object → si es texto string\n",
        "\n",
        "int64 → si es número entero\n",
        "\n",
        "float64 → si es número decimal"
      ],
      "metadata": {
        "id": "EiNhhuSDbA18"
      }
    },
    {
      "cell_type": "markdown",
      "source": [
        "En este primer análisis, debes calcular el ingreso total de cada tienda. Sumando los valores de la columna Precio de cada conjunto de datos de la tienda para estimar los ingresos."
      ],
      "metadata": {
        "id": "h1Qm0Vx5rT46"
      }
    },
    {
      "cell_type": "markdown",
      "source": [
        "**Ventas totales por tienda**"
      ],
      "metadata": {
        "id": "05hgcb_CvmoF"
      }
    },
    {
      "cell_type": "code",
      "source": [
        "def formato_latino(numero):\n",
        "    return f'{numero:,.2f}'.replace(',', 'X').replace('.', ',').replace('X', '.')"
      ],
      "metadata": {
        "id": "sbk7thaPXUUW"
      },
      "execution_count": 72,
      "outputs": []
    },
    {
      "cell_type": "code",
      "source": [
        "total_ventas_tienda = tienda['Precio'].sum()\n",
        "total_ventas_tienda2 = tienda2['Precio'].sum()\n",
        "total_ventas_tienda3 = tienda3['Precio'].sum()\n",
        "total_ventas_tienda4 = tienda4['Precio'].sum()\n",
        "\n",
        "print(f'El Total de ventas de la primera tienda es : {formato_latino(total_ventas_tienda)}')\n",
        "print(f'El Total de ventas de la segunda tienda es : {formato_latino(total_ventas_tienda2)}')\n",
        "print(f'El Total de ventas de la tercera tienda es : {formato_latino(total_ventas_tienda3)}')\n",
        "print(f'El Total de ventas de la cuarta  tienda es : {formato_latino(total_ventas_tienda4)}')"
      ],
      "metadata": {
        "colab": {
          "base_uri": "https://localhost:8080/"
        },
        "id": "fuJM1nHcsIJS",
        "outputId": "afc5afa9-32d2-42d5-882a-15cc55748f8c"
      },
      "execution_count": 75,
      "outputs": [
        {
          "output_type": "stream",
          "name": "stdout",
          "text": [
            "El Total de ventas de la primera tienda es : 1.150.880.400,00\n",
            "El Total de ventas de la segunda tienda es : 1.116.343.500,00\n",
            "El Total de ventas de la tercera tienda es : 1.098.019.600,00\n",
            "El Total de ventas de la cuarta  tienda es : 1.038.375.700,00\n"
          ]
        }
      ]
    },
    {
      "cell_type": "markdown",
      "source": [
        "En este debes calcular la cantidad de productos vendidos por categoría en cada tienda. La idea es agrupar los datos por categoría y contar el número de ventas de cada tipo, mostrando las categorías más populares de cada tienda."
      ],
      "metadata": {
        "id": "J5fofssF0MYc"
      }
    },
    {
      "cell_type": "code",
      "source": [
        "ventas_por_categoria = tienda.groupby(['Categoría del Producto']).size().reset_index(name='Cantidad Vendida')\n",
        "ventas_por_categoria_t2 = tienda2.groupby(['Categoría del Producto']).size().reset_index(name='Cantidad Vendida')\n",
        "ventas_por_categoria_t3 = tienda3.groupby(['Categoría del Producto']).size().reset_index(name='Cantidad Vendida')\n",
        "ventas_por_categoria_t4 = tienda4.groupby(['Categoría del Producto']).size().reset_index(name='Cantidad Vendida')\n"
      ],
      "metadata": {
        "id": "M2qMtt1s0Qr3"
      },
      "execution_count": 77,
      "outputs": []
    },
    {
      "cell_type": "code",
      "source": [
        "ventas_ordenadas = ventas_por_categoria.sort_values('Cantidad Vendida', ascending=False)\n",
        "ventas_ordenadas_t2 = ventas_por_categoria_t2.sort_values('Cantidad Vendida', ascending=False)\n",
        "ventas_ordenadas_t3 = ventas_por_categoria_t3.sort_values('Cantidad Vendida', ascending=False)\n",
        "ventas_ordenadas_t4 = ventas_por_categoria_t4.sort_values('Cantidad Vendida', ascending=False)"
      ],
      "metadata": {
        "id": "GvZC37FE2J6Y"
      },
      "execution_count": 78,
      "outputs": []
    },
    {
      "cell_type": "code",
      "source": [
        "print('\\033[1mLa Venta de productos por categoría de la Tienda 1 son :\\033[0m\\n\\n', ventas_ordenadas.to_string(index=False))\n",
        "print('\\n\\033[1mLa Venta de productos por categoría de la Tienda 2 son :\\033[0m\\n\\n',ventas_ordenadas_t2.to_string(index=False))\n",
        "print('\\n\\033[1mLa Venta de productos por categoría de la Tienda 3 son :\\033[0m\\n\\n',ventas_ordenadas_t3.to_string(index=False))\n",
        "print('\\n\\033[1mLa Venta de productos por categoría de la Tienda 4 son :\\033[0m\\n\\n',ventas_ordenadas_t4.to_string(index=False))"
      ],
      "metadata": {
        "colab": {
          "base_uri": "https://localhost:8080/"
        },
        "id": "jE5w7uMX7CHU",
        "outputId": "4f7bc11b-af46-465f-b136-53eb5c7824dd"
      },
      "execution_count": 79,
      "outputs": [
        {
          "output_type": "stream",
          "name": "stdout",
          "text": [
            "\u001b[1mLa Venta de productos por categoría de la Tienda 1 son :\u001b[0m\n",
            "\n",
            "  Categoría del Producto  Cantidad Vendida\n",
            "                Muebles               465\n",
            "           Electrónicos               448\n",
            "               Juguetes               324\n",
            "      Electrodomésticos               312\n",
            "   Deportes y diversión               284\n",
            " Instrumentos musicales               182\n",
            "                 Libros               173\n",
            "Artículos para el hogar               171\n",
            "\n",
            "\u001b[1mLa Venta de productos por categoría de la Tienda 2 son :\u001b[0m\n",
            "\n",
            "  Categoría del Producto  Cantidad Vendida\n",
            "                Muebles               442\n",
            "           Electrónicos               422\n",
            "               Juguetes               313\n",
            "      Electrodomésticos               305\n",
            "   Deportes y diversión               275\n",
            " Instrumentos musicales               224\n",
            "                 Libros               197\n",
            "Artículos para el hogar               181\n",
            "\n",
            "\u001b[1mLa Venta de productos por categoría de la Tienda 3 son :\u001b[0m\n",
            "\n",
            "  Categoría del Producto  Cantidad Vendida\n",
            "                Muebles               499\n",
            "           Electrónicos               451\n",
            "               Juguetes               315\n",
            "      Electrodomésticos               278\n",
            "   Deportes y diversión               277\n",
            "                 Libros               185\n",
            "Artículos para el hogar               177\n",
            " Instrumentos musicales               177\n",
            "\n",
            "\u001b[1mLa Venta de productos por categoría de la Tienda 4 son :\u001b[0m\n",
            "\n",
            "  Categoría del Producto  Cantidad Vendida\n",
            "                Muebles               480\n",
            "           Electrónicos               451\n",
            "               Juguetes               338\n",
            "   Deportes y diversión               277\n",
            "      Electrodomésticos               254\n",
            "Artículos para el hogar               201\n",
            "                 Libros               187\n",
            " Instrumentos musicales               170\n"
          ]
        }
      ]
    },
    {
      "cell_type": "code",
      "source": [
        "top_3_t = ventas_ordenadas.nlargest(3, 'Cantidad Vendida')\n",
        "top_3_t2 = ventas_ordenadas_t2.nlargest(3, 'Cantidad Vendida')\n",
        "top_3_t3 = ventas_ordenadas_t3.nlargest(3, 'Cantidad Vendida')\n",
        "top_3_t4 = ventas_ordenadas_t4.nlargest(3, 'Cantidad Vendida')\n",
        "print('\\033[1mLos 3 productos mas vendidos de la Tienda 1 son :\\033[0m\\n\\n', top_3_t.to_string(index=False))\n",
        "print('\\033[1m\\nLos 3 productos mas vendidos de la Tienda 2 son :\\033[0m\\n\\n', top_3_t2.to_string(index=False))\n",
        "print('\\033[1m\\nLos 3 productos mas vendidos de la Tienda 3 son :\\033[0m\\n\\n', top_3_t3.to_string(index=False))\n",
        "print('\\033[1m\\nLos 3 productos mas vendidos de la Tienda 4 son :\\033[0m\\n\\n', top_3_t4.to_string(index=False))"
      ],
      "metadata": {
        "colab": {
          "base_uri": "https://localhost:8080/"
        },
        "id": "SnVksOSVBAJM",
        "outputId": "2ca39890-0189-4180-c2b0-9f1fe613fb2c"
      },
      "execution_count": 80,
      "outputs": [
        {
          "output_type": "stream",
          "name": "stdout",
          "text": [
            "\u001b[1mLos 3 productos mas vendidos de la Tienda 1 son :\u001b[0m\n",
            "\n",
            " Categoría del Producto  Cantidad Vendida\n",
            "               Muebles               465\n",
            "          Electrónicos               448\n",
            "              Juguetes               324\n",
            "\u001b[1m\n",
            "Los 3 productos mas vendidos de la Tienda 2 son :\u001b[0m\n",
            "\n",
            " Categoría del Producto  Cantidad Vendida\n",
            "               Muebles               442\n",
            "          Electrónicos               422\n",
            "              Juguetes               313\n",
            "\u001b[1m\n",
            "Los 3 productos mas vendidos de la Tienda 3 son :\u001b[0m\n",
            "\n",
            " Categoría del Producto  Cantidad Vendida\n",
            "               Muebles               499\n",
            "          Electrónicos               451\n",
            "              Juguetes               315\n",
            "\u001b[1m\n",
            "Los 3 productos mas vendidos de la Tienda 4 son :\u001b[0m\n",
            "\n",
            " Categoría del Producto  Cantidad Vendida\n",
            "               Muebles               480\n",
            "          Electrónicos               451\n",
            "              Juguetes               338\n"
          ]
        }
      ]
    },
    {
      "cell_type": "markdown",
      "source": [
        "En este paso, debes calcular las calificaciones promedio de los clientes para cada tienda. El objetivo es conocer la satisfacción del cliente con los productos vendidos."
      ],
      "metadata": {
        "id": "xZuXPODu_PKk"
      }
    },
    {
      "cell_type": "code",
      "source": [
        "promedio_producto_tienda1 = tienda.groupby('Producto')['Calificación'].mean().reset_index()\n",
        "promedio_producto_tienda2 = tienda2.groupby('Producto')['Calificación'].mean().reset_index()\n",
        "promedio_producto_tienda3 = tienda3.groupby('Producto')['Calificación'].mean().reset_index()\n",
        "promedio_producto_tienda4 = tienda4.groupby('Producto')['Calificación'].mean().reset_index()"
      ],
      "metadata": {
        "id": "hsta0yQfPyml"
      },
      "execution_count": 91,
      "outputs": []
    },
    {
      "cell_type": "code",
      "source": [
        "##promedio_producto_tienda2['Calificación'] = promedio_producto_tienda2['Calificación'].apply(formato_latino)\n",
        "##print(f'\\033[1mPromedio por Producto - Tienda 2:\\033[0m\\n', promedio_producto_tienda2.to_string(index=False))\n"
      ],
      "metadata": {
        "id": "u64Tc1QGb87i"
      },
      "execution_count": null,
      "outputs": []
    },
    {
      "cell_type": "code",
      "source": [
        "print('\\033[1mPromedio por Producto - Tienda 1:\\033[0m\\n', promedio_producto_tienda1.to_string(index=False))\n",
        "print('\\n\\033[1mPromedio por Producto - Tienda 2:\\033[0m\\n', promedio_producto_tienda2.to_string(index=False))\n",
        "print('\\n\\033[1mPromedio por Producto - Tienda 3:\\033[0m\\n', promedio_producto_tienda3.to_string(index=False))\n",
        "print('\\n\\033[1mPromedio por Producto - Tienda 4:\\033[0m\\n', promedio_producto_tienda4.to_string(index=False))"
      ],
      "metadata": {
        "id": "45qTz2EsD4pP",
        "outputId": "356139ff-cb9e-4f62-ba31-16751bf420b2",
        "colab": {
          "base_uri": "https://localhost:8080/"
        }
      },
      "execution_count": 93,
      "outputs": [
        {
          "output_type": "stream",
          "name": "stdout",
          "text": [
            "\u001b[1mPromedio por Producto - Tienda 1:\u001b[0m\n",
            "                    Producto  Calificación\n",
            "          Ajedrez de madera      4.428571\n",
            "                    Armario      3.950000\n",
            "          Asistente virtual      4.075000\n",
            "                Auriculares      3.640000\n",
            "  Auriculares con micrófono      3.969697\n",
            "        Balón de baloncesto      3.872727\n",
            "          Balón de voleibol      4.071429\n",
            "                    Batería      4.188679\n",
            "                  Bicicleta      3.944444\n",
            "    Bloques de construcción      4.089286\n",
            "                   Cama box      4.113636\n",
            "                  Cama king      3.772727\n",
            "  Carrito de control remoto      4.134615\n",
            "               Celular ABXY      3.818182\n",
            "Ciencia de datos con Python      4.102564\n",
            "                 Cubertería      4.230769\n",
            "            Cubo mágico 8x8      4.068182\n",
            "         Cuerda para saltar      3.625000\n",
            "    Dashboards con Power BI      3.952381\n",
            "             Dinosaurio Rex      3.775000\n",
            "                     Estufa      4.133333\n",
            "          Guitarra acústica      3.956522\n",
            "         Guitarra eléctrica      4.085106\n",
            "                  Impresora      4.166667\n",
            "  Iniciando en programación      4.292683\n",
            "                  Iphone 15      3.938776\n",
            "              Juego de mesa      3.976744\n",
            "              Kit de bancas      4.113636\n",
            "           Lavadora de ropa      4.127660\n",
            "               Lavavajillas      4.020833\n",
            "             Mesa de centro      4.022727\n",
            "            Mesa de comedor      3.800000\n",
            "              Mesa de noche      3.803571\n",
            "                 Microondas      3.983333\n",
            "                    Mochila      3.974359\n",
            "        Modelado predictivo      3.647059\n",
            "                Muñeca bebé      3.975000\n",
            "            Olla de presión      3.771429\n",
            "                  Pandereta      3.916667\n",
            "               Refrigerador      4.018519\n",
            "           Secadora de ropa      3.948276\n",
            "               Set de ollas      3.581395\n",
            "               Set de vasos      3.292683\n",
            "           Silla de oficina      3.847826\n",
            "                     Sillón      4.073171\n",
            "                   Smart TV      4.000000\n",
            "                 Smartwatch      4.209302\n",
            "            Sofá reclinable      4.000000\n",
            "              TV LED UHD 4K      4.050000\n",
            "                Tablet ABXY      4.142857\n",
            "               Vaso térmico      3.888889\n",
            "\n",
            "\u001b[1mPromedio por Producto - Tienda 2:\u001b[0m\n",
            "                    Producto Calificación\n",
            "          Ajedrez de madera         4,11\n",
            "                    Armario         3,89\n",
            "          Asistente virtual         3,84\n",
            "                Auriculares         3,84\n",
            "  Auriculares con micrófono         3,89\n",
            "        Balón de baloncesto         4,10\n",
            "          Balón de voleibol         3,83\n",
            "                    Batería         4,03\n",
            "                  Bicicleta         4,53\n",
            "    Bloques de construcción         4,28\n",
            "                   Cama box         4,09\n",
            "                  Cama king         4,44\n",
            "  Carrito de control remoto         4,13\n",
            "               Celular ABXY         4,05\n",
            "Ciencia de datos con Python         3,84\n",
            "                 Cubertería         3,62\n",
            "            Cubo mágico 8x8         3,62\n",
            "         Cuerda para saltar         4,04\n",
            "    Dashboards con Power BI         4,00\n",
            "             Dinosaurio Rex         4,33\n",
            "                     Estufa         4,00\n",
            "          Guitarra acústica         4,00\n",
            "         Guitarra eléctrica         3,89\n",
            "                  Impresora         4,44\n",
            "  Iniciando en programación         4,00\n",
            "                  Iphone 15         3,80\n",
            "              Juego de mesa         3,97\n",
            "              Kit de bancas         3,96\n",
            "           Lavadora de ropa         3,73\n",
            "               Lavavajillas         4,11\n",
            "             Mesa de centro         4,11\n",
            "            Mesa de comedor         4,24\n",
            "              Mesa de noche         4,00\n",
            "                 Microondas         4,08\n",
            "                    Mochila         4,27\n",
            "        Modelado predictivo         3,93\n",
            "                Muñeca bebé         3,71\n",
            "            Olla de presión         4,16\n",
            "                  Pandereta         4,19\n",
            "               Refrigerador         4,22\n",
            "           Secadora de ropa         4,25\n",
            "               Set de ollas         4,38\n",
            "               Set de vasos         4,02\n",
            "           Silla de oficina         4,06\n",
            "                     Sillón         4,20\n",
            "                   Smart TV         3,98\n",
            "                 Smartwatch         3,89\n",
            "            Sofá reclinable         4,05\n",
            "              TV LED UHD 4K         4,09\n",
            "                Tablet ABXY         4,02\n",
            "               Vaso térmico         3,66\n",
            "\n",
            "\u001b[1mPromedio por Producto - Tienda 3:\u001b[0m\n",
            "                    Producto  Calificación\n",
            "          Ajedrez de madera      3.851064\n",
            "                    Armario      4.142857\n",
            "          Asistente virtual      3.692308\n",
            "                Auriculares      4.023256\n",
            "  Auriculares con micrófono      3.794872\n",
            "        Balón de baloncesto      4.000000\n",
            "          Balón de voleibol      3.729167\n",
            "                    Batería      3.975610\n",
            "                  Bicicleta      3.769231\n",
            "    Bloques de construcción      4.342857\n",
            "                   Cama box      3.869565\n",
            "                  Cama king      4.035714\n",
            "  Carrito de control remoto      4.192308\n",
            "               Celular ABXY      4.363636\n",
            "Ciencia de datos con Python      4.021739\n",
            "                 Cubertería      3.871795\n",
            "            Cubo mágico 8x8      4.181818\n",
            "         Cuerda para saltar      3.905660\n",
            "    Dashboards con Power BI      4.350000\n",
            "             Dinosaurio Rex      4.086957\n",
            "                     Estufa      4.226415\n",
            "          Guitarra acústica      3.936170\n",
            "         Guitarra eléctrica      4.078947\n",
            "                  Impresora      4.360000\n",
            "  Iniciando en programación      4.065217\n",
            "                  Iphone 15      4.043478\n",
            "              Juego de mesa      4.538462\n",
            "              Kit de bancas      4.210526\n",
            "           Lavadora de ropa      3.928571\n",
            "               Lavavajillas      3.846154\n",
            "             Mesa de centro      3.690476\n",
            "            Mesa de comedor      4.178571\n",
            "              Mesa de noche      4.254545\n",
            "                 Microondas      3.500000\n",
            "                    Mochila      3.944444\n",
            "        Modelado predictivo      3.830189\n",
            "                Muñeca bebé      4.179487\n",
            "            Olla de presión      4.234043\n",
            "                  Pandereta      4.039216\n",
            "               Refrigerador      4.420000\n",
            "           Secadora de ropa      3.977778\n",
            "               Set de ollas      4.109091\n",
            "               Set de vasos      4.027778\n",
            "           Silla de oficina      3.891304\n",
            "                     Sillón      4.319149\n",
            "                   Smart TV      3.851852\n",
            "                 Smartwatch      3.826087\n",
            "            Sofá reclinable      4.288889\n",
            "              TV LED UHD 4K      4.214286\n",
            "                Tablet ABXY      3.666667\n",
            "               Vaso térmico      4.394737\n",
            "\n",
            "\u001b[1mPromedio por Producto - Tienda 4:\u001b[0m\n",
            "                    Producto  Calificación\n",
            "          Ajedrez de madera      4.000000\n",
            "                    Armario      4.235294\n",
            "          Asistente virtual      4.040000\n",
            "                Auriculares      4.318182\n",
            "  Auriculares con micrófono      3.976190\n",
            "        Balón de baloncesto      3.880000\n",
            "          Balón de voleibol      4.291667\n",
            "                    Batería      4.333333\n",
            "                  Bicicleta      3.888889\n",
            "    Bloques de construcción      3.814815\n",
            "                   Cama box      3.983871\n",
            "                  Cama king      3.857143\n",
            "  Carrito de control remoto      3.945455\n",
            "               Celular ABXY      3.897436\n",
            "Ciencia de datos con Python      3.842105\n",
            "                 Cubertería      3.983051\n",
            "            Cubo mágico 8x8      3.851064\n",
            "         Cuerda para saltar      4.279070\n",
            "    Dashboards con Power BI      4.017857\n",
            "             Dinosaurio Rex      4.000000\n",
            "                     Estufa      3.829787\n",
            "          Guitarra acústica      3.675676\n",
            "         Guitarra eléctrica      3.787879\n",
            "                  Impresora      4.060000\n",
            "  Iniciando en programación      4.255814\n",
            "                  Iphone 15      4.083333\n",
            "              Juego de mesa      4.250000\n",
            "              Kit de bancas      4.119048\n",
            "           Lavadora de ropa      4.000000\n",
            "               Lavavajillas      3.860465\n",
            "             Mesa de centro      3.750000\n",
            "            Mesa de comedor      3.963636\n",
            "              Mesa de noche      4.145455\n",
            "                 Microondas      4.104167\n",
            "                    Mochila      3.837209\n",
            "        Modelado predictivo      4.040000\n",
            "                Muñeca bebé      4.083333\n",
            "            Olla de presión      4.086957\n",
            "                  Pandereta      3.769231\n",
            "               Refrigerador      3.947368\n",
            "           Secadora de ropa      3.825000\n",
            "               Set de ollas      3.940000\n",
            "               Set de vasos      4.043478\n",
            "           Silla de oficina      4.025000\n",
            "                     Sillón      4.111111\n",
            "                   Smart TV      4.037037\n",
            "                 Smartwatch      3.974359\n",
            "            Sofá reclinable      3.872340\n",
            "              TV LED UHD 4K      3.575000\n",
            "                Tablet ABXY      4.022222\n",
            "               Vaso térmico      4.145833\n"
          ]
        }
      ]
    },
    {
      "cell_type": "markdown",
      "source": [
        "En este paso, debes identificar qué productos fueron los más vendidos y los menos vendidos en cada tienda. Visualiza los resultados para que quede claro qué productos destacaron en ventas en cada tienda."
      ],
      "metadata": {
        "id": "f7GC21XkELXP"
      }
    },
    {
      "cell_type": "code",
      "source": [
        "ventas_por_producto = tienda.groupby(['Producto']).size().reset_index(name='Cantidad Vendida')\n",
        "ventas_por_producto_t2 = tienda2.groupby(['Producto']).size().reset_index(name='Cantidad Vendida')\n",
        "ventas_por_producto_t3 = tienda3.groupby(['Producto']).size().reset_index(name='Cantidad Vendida')\n",
        "ventas_por_producto_t4 = tienda4.groupby(['Producto']).size().reset_index(name='Cantidad Vendida')"
      ],
      "metadata": {
        "id": "SBZtOLvOE9h7"
      },
      "execution_count": 29,
      "outputs": []
    },
    {
      "cell_type": "code",
      "source": [
        "ventas_ordenadas = ventas_por_producto.sort_values('Cantidad Vendida', ascending=False)\n",
        "ventas_ordenadas_t2 = ventas_por_producto_t2.sort_values('Cantidad Vendida', ascending=False)\n",
        "ventas_ordenadas_t3 = ventas_por_producto_t3.sort_values('Cantidad Vendida', ascending=False)\n",
        "ventas_ordenadas_t4 = ventas_por_producto_t4.sort_values('Cantidad Vendida', ascending=False)"
      ],
      "metadata": {
        "id": "GSa72B_IEyzs"
      },
      "execution_count": 35,
      "outputs": []
    },
    {
      "cell_type": "code",
      "source": [
        "top_5_t = ventas_ordenadas.nlargest(5, 'Cantidad Vendida')\n",
        "top_5_t2 = ventas_ordenadas_t2.nlargest(5, 'Cantidad Vendida')\n",
        "top_5_t3 = ventas_ordenadas_t3.nlargest(5, 'Cantidad Vendida')\n",
        "top_5_t4 = ventas_ordenadas_t4.nlargest(5, 'Cantidad Vendida')\n",
        "\n",
        "print('\\033[1mLos 5 productos más vendidos de la Tienda 1 son :\\033[0m\\n\\n', top_5_t.to_string(index=False))\n",
        "print('\\033[1m\\nLos 5 productos más vendidos de la Tienda 2 son :\\033[0m\\n\\n', top_5_t2.to_string(index=False))\n",
        "print('\\033[1m\\nLos 5 productos más vendidos de la Tienda 3 son :\\033[0m\\n\\n', top_5_t3.to_string(index=False))\n",
        "print('\\033[1m\\nLos 5 productos más vendidos de la Tienda 4 son :\\033[0m\\n\\n', top_5_t4.to_string(index=False))"
      ],
      "metadata": {
        "colab": {
          "base_uri": "https://localhost:8080/"
        },
        "id": "4ddH3g6GELzb",
        "outputId": "c82e3a31-1fef-438e-853a-b9f340024311"
      },
      "execution_count": 38,
      "outputs": [
        {
          "output_type": "stream",
          "name": "stdout",
          "text": [
            "\u001b[1mLos 5 productos más vendidos de la Tienda 1 son :\u001b[0m\n",
            "\n",
            "         Producto  Cantidad Vendida\n",
            "         Armario                60\n",
            "   TV LED UHD 4K                60\n",
            "      Microondas                60\n",
            "Secadora de ropa                58\n",
            "   Mesa de noche                56\n",
            "\u001b[1m\n",
            "Los 5 productos más vendidos de la Tienda 2 son :\u001b[0m\n",
            "\n",
            "                  Producto  Cantidad Vendida\n",
            "Iniciando en programación                65\n",
            "               Microondas                62\n",
            "                  Batería                61\n",
            "                Pandereta                58\n",
            "        Guitarra acústica                58\n",
            "\u001b[1m\n",
            "Los 5 productos más vendidos de la Tienda 3 son :\u001b[0m\n",
            "\n",
            "        Producto  Cantidad Vendida\n",
            "  Kit de bancas                57\n",
            "Mesa de comedor                56\n",
            "      Cama king                56\n",
            "   Set de ollas                55\n",
            "  Mesa de noche                55\n",
            "\u001b[1m\n",
            "Los 5 productos más vendidos de la Tienda 4 son :\u001b[0m\n",
            "\n",
            "                  Producto  Cantidad Vendida\n",
            "                 Cama box                62\n",
            "               Cubertería                59\n",
            "                Cama king                56\n",
            "  Dashboards con Power BI                56\n",
            "Carrito de control remoto                55\n"
          ]
        }
      ]
    },
    {
      "cell_type": "code",
      "source": [
        "least_5_t1 = ventas_ordenadas.nsmallest(5, 'Cantidad Vendida')\n",
        "least_5_t2 = ventas_ordenadas_t2.nsmallest(5, 'Cantidad Vendida')\n",
        "least_5_t3 = ventas_ordenadas_t3.nsmallest(5, 'Cantidad Vendida')\n",
        "least_5_t4 = ventas_ordenadas_t4.nsmallest(5, 'Cantidad Vendida')\n",
        "\n",
        "print('\\033[1m\\nTop 5 productos menos vendidos de la Tienda 1:\\033[0m\\n\\n', least_5_t1.to_string(index=False))\n",
        "print('\\033[1m\\nTop 5 productos menos vendidos de la Tienda 2:\\033[0m\\n\\n', least_5_t2.to_string(index=False))\n",
        "print('\\033[1m\\nTop 5 productos menos vendidos de la Tienda 3:\\033[0m\\n\\n', least_5_t3.to_string(index=False))\n",
        "print('\\033[1m\\nTop 5 productos menos vendidos de la Tienda 4:\\033[0m\\n\\n', least_5_t4.to_string(index=False))"
      ],
      "metadata": {
        "colab": {
          "base_uri": "https://localhost:8080/"
        },
        "id": "Ct4S7oDzH7q4",
        "outputId": "2b1c7456-3227-44fe-d9e5-563da78a2f45"
      },
      "execution_count": 32,
      "outputs": [
        {
          "output_type": "stream",
          "name": "stdout",
          "text": [
            "\u001b[1m\n",
            "Top 5 productos menos vendidos de la Tienda 1:\u001b[0m\n",
            "\n",
            "                    Producto  Cantidad Vendida\n",
            "               Celular ABXY                33\n",
            "  Auriculares con micrófono                33\n",
            "            Olla de presión                35\n",
            "                  Pandereta                36\n",
            "Ciencia de datos con Python                39\n",
            "\u001b[1m\n",
            "Top 5 productos menos vendidos de la Tienda 2:\u001b[0m\n",
            "\n",
            "        Producto  Cantidad Vendida\n",
            "  Juego de mesa                32\n",
            "      Impresora                34\n",
            "Mesa de comedor                34\n",
            "         Sillón                35\n",
            "    Auriculares                37\n",
            "\u001b[1m\n",
            "Top 5 productos menos vendidos de la Tienda 3:\u001b[0m\n",
            "\n",
            "                Producto  Cantidad Vendida\n",
            "Bloques de construcción                35\n",
            "                Mochila                36\n",
            "             Microondas                36\n",
            "           Set de vasos                36\n",
            "           Vaso térmico                38\n",
            "\u001b[1m\n",
            "Top 5 productos menos vendidos de la Tienda 4:\u001b[0m\n",
            "\n",
            "                    Producto  Cantidad Vendida\n",
            "         Guitarra eléctrica                33\n",
            "                    Armario                34\n",
            "          Guitarra acústica                37\n",
            "           Lavadora de ropa                38\n",
            "Ciencia de datos con Python                38\n"
          ]
        }
      ]
    },
    {
      "cell_type": "markdown",
      "source": [
        "En este paso, debes calcular el costo de envío promedio para cada tienda. El objetivo es comprender cuánto se gasta, en promedio, en el envío de cada tienda."
      ],
      "metadata": {
        "id": "LnFgB86cMsF7"
      }
    },
    {
      "cell_type": "code",
      "source": [
        "tienda.head()"
      ],
      "metadata": {
        "id": "Aejy8lz4NFG_"
      },
      "execution_count": null,
      "outputs": []
    },
    {
      "cell_type": "code",
      "source": [
        "promedio_envio_tienda1 = tienda['Costo de envío'].mean()\n",
        "promedio_envio_tienda2 = tienda2['Costo de envío'].mean()\n",
        "promedio_envio_tienda3 = tienda3['Costo de envío'].mean()\n",
        "promedio_envio_tienda4 = tienda4['Costo de envío'].mean()"
      ],
      "metadata": {
        "id": "zQeGRRklMt6T"
      },
      "execution_count": null,
      "outputs": []
    },
    {
      "cell_type": "code",
      "source": [
        "# Lista de nombres de tiendas y sus promedios\n",
        "nombres_tiendas = ['Tienda 1', 'Tienda 2', 'Tienda 3', 'Tienda 4']\n",
        "promedios_envio = [promedio_envio_tienda1, promedio_envio_tienda2, promedio_envio_tienda3, promedio_envio_tienda4]\n",
        "\n",
        "# Imprimir con formato europeo (punto para miles, coma decimal)\n",
        "for nombre, promedio in zip(nombres_tiendas, promedios_envio):\n",
        "    print(f'El promedio del costo de envío de la {nombre} es: {promedio:,.2f}'.replace(',', 'X').replace('.', ',').replace('X', '.'))"
      ],
      "metadata": {
        "colab": {
          "base_uri": "https://localhost:8080/"
        },
        "id": "wgpX8wDkWMY8",
        "outputId": "a1b0481b-53f1-453a-d5aa-7bda3e2b9a28"
      },
      "execution_count": 71,
      "outputs": [
        {
          "output_type": "stream",
          "name": "stdout",
          "text": [
            "El promedio del costo de envío de la Tienda 1 es: 26.018,61\n",
            "El promedio del costo de envío de la Tienda 2 es: 25.216,24\n",
            "El promedio del costo de envío de la Tienda 3 es: 24.805,68\n",
            "El promedio del costo de envío de la Tienda 4 es: 23.459,46\n"
          ]
        }
      ]
    },
    {
      "cell_type": "code",
      "source": [
        "import matplotlib.pyplot as plt\n",
        "from matplotlib.ticker import FuncFormatter"
      ],
      "metadata": {
        "id": "YmK-9h-6Rjde"
      },
      "execution_count": 62,
      "outputs": []
    },
    {
      "cell_type": "code",
      "source": [
        "# Datos\n",
        "tiendas = ['Tienda 1', 'Tienda 2', 'Tienda 3', 'Tienda 4']\n",
        "promedios_ = [promedio_envio_tienda1, promedio_envio_tienda2, promedio_envio_tienda3, promedio_envio_tienda4]\n",
        "\n",
        "# Función para formato con separador de miles (punto) y 2 decimales\n",
        "def formatear_miles(x, _):\n",
        "    return f'{x:,.2f}'\n",
        "\n",
        "# Crear gráfico\n",
        "plt.figure(figsize=(8, 5))\n",
        "plt.bar(tiendas, promedios_, color='skyblue')\n",
        "plt.title('Promedio de Costo de Envío por Tienda')\n",
        "plt.ylabel('Costo de Envío ($)')\n",
        "plt.xlabel('Tienda')\n",
        "plt.ylim(0, max(promedios_) + 500)\n",
        "plt.grid(axis='y', linestyle='--', alpha=0.7)\n",
        "\n",
        "# Aplicar el formateo\n",
        "plt.gca().yaxis.set_major_formatter(FuncFormatter(formatear_miles))\n",
        "\n",
        "plt.tight_layout()\n",
        "plt.show()\n"
      ],
      "metadata": {
        "colab": {
          "base_uri": "https://localhost:8080/",
          "height": 507
        },
        "id": "TMQ_V4viR639",
        "outputId": "6df62a25-2406-4e66-8d80-47f107c80a87"
      },
      "execution_count": 69,
      "outputs": [
        {
          "output_type": "display_data",
          "data": {
            "text/plain": [
              "<Figure size 800x500 with 1 Axes>"
            ],
            "image/png": "[encoded data removed]"
          },
          "metadata": {}
        }
      ]
    }
  ]
}